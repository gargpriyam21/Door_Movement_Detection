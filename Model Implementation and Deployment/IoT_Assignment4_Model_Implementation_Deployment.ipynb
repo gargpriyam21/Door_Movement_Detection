{
 "cells": [
  {
   "cell_type": "markdown",
   "id": "ad2130e8",
   "metadata": {},
   "source": [
    "# Import Required Packages"
   ]
  },
  {
   "cell_type": "code",
   "execution_count": 1,
   "id": "c48679b7",
   "metadata": {},
   "outputs": [],
   "source": [
    "from sklearn import *\n",
    "import pandas as pd\n",
    "import numpy as np\n",
    "from sklearn.preprocessing import *\n",
    "import random\n",
    "from sklearn.model_selection import train_test_split\n",
    "import collections\n",
    "import os\n",
    "import sys\n",
    "from sklearn.utils import shuffle\n",
    "from sklearn.preprocessing import StandardScaler\n",
    "from sklearn.decomposition import PCA\n",
    "from sklearn.svm import SVC\n",
    "from sklearn.pipeline import Pipeline\n",
    "from sklearn.model_selection import GridSearchCV\n",
    "from sklearn.metrics import classification_report, confusion_matrix"
   ]
  },
  {
   "cell_type": "markdown",
   "id": "791745d6",
   "metadata": {},
   "source": [
    "# Data Reading"
   ]
  },
  {
   "cell_type": "code",
   "execution_count": 2,
   "id": "35f93263",
   "metadata": {},
   "outputs": [],
   "source": [
    "# Path to the data directory\n",
    "data_path = os.getcwd() + '/data/'\n",
    "\n",
    "# Path to the train and the test data\n",
    "train_data_file = data_path + 'train_data.txt'\n",
    "test_data_file = data_path + 'test_data.txt'"
   ]
  },
  {
   "cell_type": "markdown",
   "id": "9f2ded30",
   "metadata": {},
   "source": [
    "# Processing Data"
   ]
  },
  {
   "cell_type": "code",
   "execution_count": 3,
   "id": "5d2093ea",
   "metadata": {},
   "outputs": [],
   "source": [
    "def process_data(data_file):\n",
    "    \"\"\"\n",
    "    Function to process the given data and spliit it in the respective required columns\n",
    "    Arguments:\n",
    "        data_file: Provided data in the given format\n",
    "    \"\"\"\n",
    "    label_map = {'CLOSED': 0, 'OPEN': 1, 'STATIONARY': 2}\n",
    "    \n",
    "    processed_data = []\n",
    "    with open(data_file, 'r') as f:\n",
    "        lines = f.readlines()\n",
    "        for line in lines:\n",
    "            content = line.split(',')\n",
    "            ax = content[0].split(\" \")[2][1:]\n",
    "            gz = content[5][:-1]\n",
    "            ay,az,gx,gy = content[1:5]\n",
    "            label = str(label_map[content[-1][:-1].strip()])\n",
    "            train_sample = [ax,ay,az,gx,gy,gz,label]\n",
    "\n",
    "            processed_data.append(list(map(lambda x: float(x.strip()), train_sample)))\n",
    "    \n",
    "    return processed_data"
   ]
  },
  {
   "cell_type": "code",
   "execution_count": 4,
   "id": "aa5afce4",
   "metadata": {},
   "outputs": [],
   "source": [
    "def remove_stationary_values(processed_data):\n",
    "    \"\"\"\n",
    "    Function to remove the Stationary values from the data i.e. not required for the training of the model\n",
    "    Arguments:\n",
    "        processed_data: Processed data in the form of 2D array\n",
    "    \"\"\"\n",
    "    data = collections.defaultdict(list)\n",
    "    start = False\n",
    "    for observation in processed_data:\n",
    "        label =  observation[-1] \n",
    "        if label != 2.0:\n",
    "            if not start:\n",
    "                start = True\n",
    "                data[label].append([])\n",
    "            data[label][-1].append(observation[:-1])\n",
    "        else:\n",
    "            start = False\n",
    "            continue\n",
    "    return data"
   ]
  },
  {
   "cell_type": "code",
   "execution_count": 5,
   "id": "20ec1caa",
   "metadata": {},
   "outputs": [],
   "source": [
    "def remove_unncessary_values(data):\n",
    "    \"\"\"\n",
    "    Function to remove the Unnecessary values and the noise from the data\n",
    "    Arguments:\n",
    "        data: data in the form of 2D array\n",
    "    \"\"\"\n",
    "    for key, value in data.items():\n",
    "        rem_index = []\n",
    "        for i, observation in enumerate(value):\n",
    "    #         print(len(observation))\n",
    "            if len(observation) < 5:\n",
    "                rem_index.append(i)\n",
    "        data[key] = delete_multiple_element(data[key], rem_index)"
   ]
  },
  {
   "cell_type": "code",
   "execution_count": 6,
   "id": "9388f5cf",
   "metadata": {},
   "outputs": [],
   "source": [
    "def delete_multiple_element(list_object, indices):\n",
    "    \"\"\"\n",
    "    Function to delete the multiple elements present in the data\n",
    "    Arguments:\n",
    "        list_object: list of object\n",
    "        indices: indices to be deleted\n",
    "    \"\"\"\n",
    "    indices = sorted(indices, reverse=True)\n",
    "    for idx in indices:\n",
    "        if idx < len(list_object):\n",
    "            list_object.pop(idx)\n",
    "    return list_object"
   ]
  },
  {
   "cell_type": "code",
   "execution_count": 7,
   "id": "86acab8e",
   "metadata": {},
   "outputs": [],
   "source": [
    "def get_samples_and_labels(data_file):\n",
    "    \"\"\"\n",
    "    Function to create the samples and the labels from the given data file\n",
    "    Arguments:\n",
    "        data_file: path to the file\n",
    "    \"\"\"\n",
    "    \n",
    "    processed_data = process_data(data_file)\n",
    "    data = remove_stationary_values(processed_data)\n",
    "    remove_unncessary_values(data)\n",
    "\n",
    "    samples =  data[1.0] + data[0.0]\n",
    "    labels = [1]*len(data[1.0]) + [0]*len(data[0.0])\n",
    "    \n",
    "    return samples, labels"
   ]
  },
  {
   "cell_type": "code",
   "execution_count": 8,
   "id": "64e3be26",
   "metadata": {},
   "outputs": [],
   "source": [
    "# Fetching the samples and the labesl for the training data\n",
    "samples, labels = get_samples_and_labels(train_data_file)"
   ]
  },
  {
   "cell_type": "code",
   "execution_count": 9,
   "id": "8a825527",
   "metadata": {},
   "outputs": [],
   "source": [
    "# samples[0][0]"
   ]
  },
  {
   "cell_type": "code",
   "execution_count": 10,
   "id": "a7c3b894",
   "metadata": {},
   "outputs": [],
   "source": [
    "# collections.Counter(labels)"
   ]
  },
  {
   "cell_type": "markdown",
   "id": "8428ac26",
   "metadata": {},
   "source": [
    "# Feature Extraction"
   ]
  },
  {
   "cell_type": "code",
   "execution_count": 11,
   "id": "d85de7ea",
   "metadata": {},
   "outputs": [],
   "source": [
    "def feature1(window):\n",
    "    \"\"\"\n",
    "    Function to fetch 3 featured from the given window\n",
    "        Feature 1: Mean of Accelerometer x\n",
    "        Feature 2: Mean of Accelerometer y\n",
    "        Feature 3: Mean of Gyroscope z\n",
    "    Arguments:\n",
    "        window: window for the feature extraction\n",
    "    \"\"\"\n",
    "    if len(window) == 0:\n",
    "        return None\n",
    "    feature = []\n",
    "    mean_values = np.mean(window, axis=0)\n",
    "    \n",
    "    feature.append(mean_values[1])\n",
    "    feature.append(mean_values[3])\n",
    "    feature.append(mean_values[5])\n",
    "    \n",
    "    return feature\n",
    "\n",
    "def feature2(window):\n",
    "    \"\"\"\n",
    "    Function to fetch 4 featured from the given window\n",
    "        Feature 1: Mean of Accelerometer Values\n",
    "        Feature 2: Mean of Gyroscope Values\n",
    "        Feature 3: Standard Deviation of Accelerometer Values\n",
    "        Feature 4: Standard Deviation of Gyroscope Values\n",
    "    Arguments:\n",
    "        window: window for the feature extraction\n",
    "    \"\"\"\n",
    "    feature = []\n",
    "    \n",
    "    feature.append(np.mean(window[:,0:3]))\n",
    "    feature.append(np.mean(window[:,3:6]))\n",
    "    feature.append(np.std(window[:,0:3]))\n",
    "    feature.append(np.std(window[:3:6]))\n",
    "    \n",
    "    return feature"
   ]
  },
  {
   "cell_type": "code",
   "execution_count": 12,
   "id": "288a3d0c",
   "metadata": {},
   "outputs": [],
   "source": [
    "def select_features_from_window(window):\n",
    "    \"\"\"\n",
    "    Function fetch main features from the given window\n",
    "    Arguments:\n",
    "        window: window for the feature extraction\n",
    "    \"\"\"\n",
    "    \n",
    "    f = feature1(window)\n",
    "#     f = feature2(window)\n",
    "    return f"
   ]
  },
  {
   "cell_type": "code",
   "execution_count": 13,
   "id": "afc64667",
   "metadata": {},
   "outputs": [],
   "source": [
    "def create_feature_vector(sample, splits):\n",
    "    \"\"\"\n",
    "    Function to create the feature vector from the given data and creating the features\n",
    "    Arguments:\n",
    "        sample: sample data for the feature extraction\n",
    "        splits: number of splits in which the data is to be splitted\n",
    "    \"\"\"\n",
    "    \n",
    "    feature_vector = []\n",
    "    if len(sample) < splits:\n",
    "#         feature_vector.append(select_features_from_window(np.array(sample)))\n",
    "        return feature_vector\n",
    "    to_split_data = np.array(sample[:int(len(sample)//splits)*splits])\n",
    "    splitted_samples = np.split(to_split_data,splits)\n",
    "    for i, window in enumerate(splitted_samples):\n",
    "        if i == len(splitted_samples)-1 and len(sample[int(len(sample)//splits)*splits:]) > 0: \n",
    "            window = np.vstack((window, sample[int(len(sample)//splits)*splits:]))\n",
    "        features = select_features_from_window(window)\n",
    "        if features:\n",
    "            feature_vector.append(features)\n",
    "\n",
    "    debug = ' '.join([str(len(x)) for x in feature_vector])\n",
    "#     print(len(feature_vector), \" \", debug)\n",
    "    return feature_vector"
   ]
  },
  {
   "cell_type": "code",
   "execution_count": 14,
   "id": "094da1f7",
   "metadata": {},
   "outputs": [],
   "source": [
    "def create_data(samples, splits):\n",
    "    \"\"\"\n",
    "    Function to create the data from the given samples into the required splits\n",
    "    Arguments:\n",
    "        samples: sample data for the feature extraction\n",
    "        splits: number of splits in which the data is to be splitted\n",
    "    \"\"\"\n",
    "    data = []\n",
    "    i = 0\n",
    "    for sample in samples:\n",
    "        f_vector = create_feature_vector(sample, splits)\n",
    "        if f_vector != []:\n",
    "            data.append(f_vector)\n",
    "#     print(data)\n",
    "    data = np.array(data)\n",
    "#     print(data.shape)\n",
    "    data = data.reshape(data.shape[0], data.shape[1]*data.shape[2])\n",
    "#     print(data.shape)\n",
    "    \n",
    "    return data"
   ]
  },
  {
   "cell_type": "markdown",
   "id": "1d3b0785",
   "metadata": {},
   "source": [
    "# Model Identification, Training and Testing"
   ]
  },
  {
   "cell_type": "markdown",
   "id": "2fb1609f",
   "metadata": {},
   "source": [
    "## Hyperparameter Tuning"
   ]
  },
  {
   "cell_type": "code",
   "execution_count": 15,
   "id": "a556dc37",
   "metadata": {},
   "outputs": [],
   "source": [
    "# Function to perform grid search with pca, c, gamma values\n",
    "def perform_gird_search(x_train, y_train):\n",
    "    \"\"\"\n",
    "    Function to perform grid search with pca, c, gamma values\n",
    "    Arguments:\n",
    "        x_train: x values for the data values\n",
    "        y_train: labels values for the data values\n",
    "    \"\"\"\n",
    "    \n",
    "    pipeline = Pipeline(\n",
    "        [('scaler', StandardScaler()),\n",
    "         ('pca', PCA()),\n",
    "         ('SVM', SVC(kernel='rbf', random_state=1234))]\n",
    "    )\n",
    "    \n",
    "    check_params= {\n",
    "        'pca__n_components': [2,4], \n",
    "        'SVM__C': [0.05,0.1,0.5, 1],\n",
    "        'SVM__gamma' : [0.1, 0.5]\n",
    "    }\n",
    "    \n",
    "    grid = GridSearchCV(pipeline, check_params, refit=True, verbose=1, cv=3)\n",
    "    grid.fit(x_train, y_train)\n",
    "    best_params = grid.best_params_\n",
    "    \n",
    "    return best_params, grid.best_estimator_"
   ]
  },
  {
   "cell_type": "code",
   "execution_count": 16,
   "id": "30c5cf8f",
   "metadata": {},
   "outputs": [],
   "source": [
    "random_state_seed = 1234"
   ]
  },
  {
   "cell_type": "code",
   "execution_count": 17,
   "id": "489fb701",
   "metadata": {},
   "outputs": [
    {
     "name": "stdout",
     "output_type": "stream",
     "text": [
      "Tuning data for window size: 3\n",
      "Fitting 3 folds for each of 16 candidates, totalling 48 fits\n",
      "1.0\n",
      "Tuning data for window size: 4\n",
      "Fitting 3 folds for each of 16 candidates, totalling 48 fits\n",
      "1.0\n"
     ]
    }
   ],
   "source": [
    "num_window_to_best_params = {}\n",
    "\n",
    "for numw in range(3,5):\n",
    "    print(\"Tuning data for window size: {}\".format(numw))\n",
    "    \n",
    "    data = create_data(samples, numw)\n",
    "    data_shuffled, labels_shuffled = shuffle(data, labels, random_state=random_state_seed)\n",
    "    bparams, best_model = perform_gird_search(data_shuffled, labels_shuffled)\n",
    "    num_window_to_best_params[numw] = bparams\n",
    "    \n",
    "    print(best_model.score(data, labels))"
   ]
  },
  {
   "cell_type": "code",
   "execution_count": null,
   "id": "33b07699",
   "metadata": {},
   "outputs": [],
   "source": []
  },
  {
   "cell_type": "code",
   "execution_count": 18,
   "id": "0f17361e",
   "metadata": {},
   "outputs": [
    {
     "name": "stdout",
     "output_type": "stream",
     "text": [
      "Best parameters for Window Size: 3\n",
      "{'SVM__C': 0.05, 'SVM__gamma': 0.1, 'pca__n_components': 2}\n",
      "Best parameters for Window Size: 4\n",
      "{'SVM__C': 0.05, 'SVM__gamma': 0.1, 'pca__n_components': 2}\n"
     ]
    }
   ],
   "source": [
    "for window_size, parameters in num_window_to_best_params.items():\n",
    "    print(\"Best parameters for Window Size: {}\".format(window_size))\n",
    "    print(parameters)"
   ]
  },
  {
   "cell_type": "markdown",
   "id": "a552acdb",
   "metadata": {},
   "source": [
    "## Model Training"
   ]
  },
  {
   "cell_type": "code",
   "execution_count": 19,
   "id": "ed5958aa",
   "metadata": {},
   "outputs": [],
   "source": [
    "best_window_size = 3\n",
    "\n",
    "best_pca__n_components = num_window_to_best_params[3][\"pca__n_components\"]\n",
    "best_SVM__C = num_window_to_best_params[3][\"SVM__C\"]\n",
    "best_SVM__gamma = num_window_to_best_params[3][\"SVM__gamma\"]"
   ]
  },
  {
   "cell_type": "code",
   "execution_count": 20,
   "id": "78a0cca1",
   "metadata": {},
   "outputs": [
    {
     "data": {
      "text/plain": [
       "Pipeline(steps=[('scaler', StandardScaler()), ('pca', PCA(n_components=2)),\n",
       "                ('SVM', SVC(C=0.05, gamma=0.1, random_state=1234))])"
      ]
     },
     "execution_count": 20,
     "metadata": {},
     "output_type": "execute_result"
    }
   ],
   "source": [
    "pipeline = Pipeline(\n",
    "    [('scaler', StandardScaler()),\n",
    "     ('pca', PCA(n_components = best_pca__n_components)),\n",
    "     ('SVM', SVC(kernel='rbf', random_state=random_state_seed,C = best_SVM__C, gamma=best_SVM__gamma,))]\n",
    ")\n",
    "\n",
    "data = create_data(samples, best_window_size)\n",
    "data_shuffled, labels_shuffled = shuffle(data, labels, random_state=random_state_seed)\n",
    "\n",
    "pipeline.fit(data_shuffled, labels_shuffled)"
   ]
  },
  {
   "cell_type": "code",
   "execution_count": 21,
   "id": "a0890aab",
   "metadata": {},
   "outputs": [
    {
     "data": {
      "text/plain": [
       "1.0"
      ]
     },
     "execution_count": 21,
     "metadata": {},
     "output_type": "execute_result"
    }
   ],
   "source": [
    "pipeline.score(data, labels)"
   ]
  },
  {
   "cell_type": "code",
   "execution_count": 22,
   "id": "51e7f4f2",
   "metadata": {},
   "outputs": [
    {
     "data": {
      "text/plain": [
       "array([[122,   0],\n",
       "       [  0, 122]])"
      ]
     },
     "execution_count": 22,
     "metadata": {},
     "output_type": "execute_result"
    }
   ],
   "source": [
    "confusion_matrix(pipeline.predict(data), labels)"
   ]
  },
  {
   "cell_type": "markdown",
   "id": "5c469b09",
   "metadata": {},
   "source": [
    "## Model Testing"
   ]
  },
  {
   "cell_type": "code",
   "execution_count": 23,
   "id": "3aed773e",
   "metadata": {},
   "outputs": [],
   "source": [
    "test_samples, test_labels = get_samples_and_labels(test_data_file)"
   ]
  },
  {
   "cell_type": "code",
   "execution_count": 24,
   "id": "05cd5244",
   "metadata": {},
   "outputs": [],
   "source": [
    "test_data = create_data(test_samples, best_window_size)"
   ]
  },
  {
   "cell_type": "code",
   "execution_count": 25,
   "id": "bea83265",
   "metadata": {},
   "outputs": [
    {
     "data": {
      "text/plain": [
       "1.0"
      ]
     },
     "execution_count": 25,
     "metadata": {},
     "output_type": "execute_result"
    }
   ],
   "source": [
    "shuffled_test_data, shuffled_test_labels = shuffle(test_data, test_labels, random_state = random_state_seed)\n",
    "pipeline.score(shuffled_test_data, shuffled_test_labels)"
   ]
  },
  {
   "cell_type": "code",
   "execution_count": 26,
   "id": "5a8d91e2",
   "metadata": {},
   "outputs": [
    {
     "data": {
      "text/plain": [
       "array([[7, 0],\n",
       "       [0, 6]])"
      ]
     },
     "execution_count": 26,
     "metadata": {},
     "output_type": "execute_result"
    }
   ],
   "source": [
    "confusion_matrix(pipeline.predict(shuffled_test_data), shuffled_test_labels)"
   ]
  },
  {
   "cell_type": "code",
   "execution_count": null,
   "id": "1563a850",
   "metadata": {},
   "outputs": [],
   "source": []
  },
  {
   "cell_type": "code",
   "execution_count": null,
   "id": "3e8e64f0",
   "metadata": {},
   "outputs": [],
   "source": []
  },
  {
   "cell_type": "markdown",
   "id": "c7d55858",
   "metadata": {},
   "source": [
    "# IBM Cloud Deployement"
   ]
  },
  {
   "cell_type": "code",
   "execution_count": 27,
   "id": "153cbc5c",
   "metadata": {},
   "outputs": [],
   "source": [
    "from ibm_watson_machine_learning import APIClient\n",
    "import json"
   ]
  },
  {
   "cell_type": "code",
   "execution_count": 28,
   "id": "694ff062",
   "metadata": {},
   "outputs": [],
   "source": [
    "cloud_training_samples, cloud_training_labels = get_samples_and_labels(train_data_file)\n",
    "cloud_training_data = create_data(samples, best_window_size)\n",
    "\n",
    "\n",
    "cloud_shuffled_training_data, cloud_shuffled_training_target = shuffle(cloud_training_data, cloud_training_labels, random_state=random_state_seed)\n",
    "\n"
   ]
  },
  {
   "cell_type": "code",
   "execution_count": 29,
   "id": "35136561",
   "metadata": {},
   "outputs": [],
   "source": [
    "wml_credentials_apikey = \"ADD YOUR SPECIFIC API KEY HERE\"\n",
    "wml_credentials_url = \"ADD YOUR URL HERE\""
   ]
  },
  {
   "cell_type": "code",
   "execution_count": 30,
   "id": "4eaeb49e",
   "metadata": {},
   "outputs": [],
   "source": [
    "wml_credentials = {\n",
    "    \"apikey\": wml_credentials_apikey,\n",
    "    \"url\": wml_credentials_url,\n",
    "}"
   ]
  },
  {
   "cell_type": "code",
   "execution_count": 31,
   "id": "d2ef7f2c",
   "metadata": {},
   "outputs": [
    {
     "name": "stdout",
     "output_type": "stream",
     "text": [
      "Python 3.7 and 3.8 frameworks are deprecated and will be removed in a future release. Use Python 3.9 framework instead.\n",
      "Note: 'limit' is not provided. Only first 50 records will be displayed if the number of records exceed 50\n",
      "------------------------------------  ----  ------------------------\n",
      "ID                                    NAME  CREATED\n",
      "fac068c9-1bea-460a-b9cd-987107957422  PROD  2022-04-02T20:15:32.208Z\n",
      "------------------------------------  ----  ------------------------\n"
     ]
    }
   ],
   "source": [
    "client = APIClient(wml_credentials)\n",
    "client.spaces.list()"
   ]
  },
  {
   "cell_type": "code",
   "execution_count": 32,
   "id": "0bcdfaef",
   "metadata": {},
   "outputs": [],
   "source": [
    "space_id = \"ADD YOUR SPACE ID HERE\""
   ]
  },
  {
   "cell_type": "code",
   "execution_count": 33,
   "id": "b3e2b0b8",
   "metadata": {},
   "outputs": [
    {
     "data": {
      "text/plain": [
       "'SUCCESS'"
      ]
     },
     "execution_count": 33,
     "metadata": {},
     "output_type": "execute_result"
    }
   ],
   "source": [
    "client.set.default_space(space_id)"
   ]
  },
  {
   "cell_type": "code",
   "execution_count": 35,
   "id": "7a9ee051",
   "metadata": {},
   "outputs": [],
   "source": [
    "model_name = \"MODEL NAME\"\n",
    "deployment_name = \"DEPLOYMENT NAME\"\n",
    "best_model = pipeline"
   ]
  },
  {
   "cell_type": "code",
   "execution_count": 36,
   "id": "d9fe9ba5",
   "metadata": {},
   "outputs": [
    {
     "data": {
      "text/plain": [
       "Pipeline(steps=[('scaler', StandardScaler()), ('pca', PCA(n_components=2)),\n",
       "                ('SVM', SVC(C=0.05, gamma=0.1, random_state=1234))])"
      ]
     },
     "execution_count": 36,
     "metadata": {},
     "output_type": "execute_result"
    }
   ],
   "source": [
    "pipeline"
   ]
  },
  {
   "cell_type": "code",
   "execution_count": 37,
   "id": "dc8607ce",
   "metadata": {},
   "outputs": [
    {
     "name": "stderr",
     "output_type": "stream",
     "text": [
      "Failure during scoring. (POST https://us-south.ml.cloud.ibm.com/ml/v4/deployments/6e6f0ccf-c699-4069-ab74-bf75951bd88f/predictions?version=2021-06-24)\n",
      "Status code: 404, body: {\"trace\":\"32f2aa977f524176908f40d7ba7e7cd3\",\"errors\":[{\"code\":\"deployment_not_found\",\"message\":\"Deployment with id '6e6f0ccf-c699-4069-ab74-bf75951bd88f' does not exist. Re-try with a valid deployment id.\"}]}\n"
     ]
    }
   ],
   "source": [
    "software_spec_uid = client.software_specifications.get_id_by_name('runtime-22.1-py3.9')\n",
    "model_props = {\n",
    "    client.repository.ModelMetaNames.NAME: model_name,\n",
    "    client.repository.ModelMetaNames.TYPE: 'scikit-learn_1.0',\n",
    "    client.repository.ModelMetaNames.SOFTWARE_SPEC_UID: software_spec_uid\n",
    "}\n",
    "\n",
    "model_details = client.repository.store_model(\n",
    "    model=best_model,\n",
    "    meta_props=model_props,\n",
    "    training_data=cloud_shuffled_training_data,\n",
    "    training_target=cloud_shuffled_training_target,\n",
    "    pipeline=pipeline\n",
    ")"
   ]
  },
  {
   "cell_type": "code",
   "execution_count": 38,
   "id": "f12378af",
   "metadata": {},
   "outputs": [
    {
     "data": {
      "text/plain": [
       "{'entity': {'hybrid_pipeline_software_specs': [],\n",
       "  'label_column': 'l1',\n",
       "  'software_spec': {'id': '12b83a17-24d8-5082-900f-0ab31fbfd3cb',\n",
       "   'name': 'runtime-22.1-py3.9'},\n",
       "  'training_data_references': [{'connection': {'access_key_id': 'not_applicable',\n",
       "     'endpoint_url': 'not_applicable',\n",
       "     'secret_access_key': 'not_applicable'},\n",
       "    'id': '1',\n",
       "    'location': {},\n",
       "    'schema': {'fields': [{'name': 'f0', 'type': 'float'},\n",
       "      {'name': 'f1', 'type': 'float'},\n",
       "      {'name': 'f2', 'type': 'float'},\n",
       "      {'name': 'f3', 'type': 'float'},\n",
       "      {'name': 'f4', 'type': 'float'},\n",
       "      {'name': 'f5', 'type': 'float'},\n",
       "      {'name': 'f6', 'type': 'float'},\n",
       "      {'name': 'f7', 'type': 'float'},\n",
       "      {'name': 'f8', 'type': 'float'}],\n",
       "     'id': '1',\n",
       "     'type': 'ndarray'},\n",
       "    'type': 's3'}],\n",
       "  'type': 'scikit-learn_1.0'},\n",
       " 'metadata': {'created_at': '2022-04-10T23:05:09.220Z',\n",
       "  'id': 'e54a2552-7daa-44e6-87ce-af43f1c8ae47',\n",
       "  'modified_at': '2022-04-10T23:05:12.508Z',\n",
       "  'name': 'IoT_SVM_data_model',\n",
       "  'owner': 'IBMid-662003ETD1',\n",
       "  'resource_key': '6573d228-b7bc-4885-aae5-57833f51d9ec',\n",
       "  'space_id': 'fac068c9-1bea-460a-b9cd-987107957422'},\n",
       " 'system': {'warnings': []}}"
      ]
     },
     "execution_count": 38,
     "metadata": {},
     "output_type": "execute_result"
    }
   ],
   "source": [
    "model_details"
   ]
  },
  {
   "cell_type": "code",
   "execution_count": 39,
   "id": "3e543f83",
   "metadata": {},
   "outputs": [
    {
     "data": {
      "text/plain": [
       "'e54a2552-7daa-44e6-87ce-af43f1c8ae47'"
      ]
     },
     "execution_count": 39,
     "metadata": {},
     "output_type": "execute_result"
    }
   ],
   "source": [
    "model_id = client.repository.get_model_id(model_details)\n",
    "model_id"
   ]
  },
  {
   "cell_type": "code",
   "execution_count": 40,
   "id": "1c335648",
   "metadata": {},
   "outputs": [
    {
     "name": "stdout",
     "output_type": "stream",
     "text": [
      "\n",
      "\n",
      "#######################################################################################\n",
      "\n",
      "Synchronous deployment creation for uid: 'e54a2552-7daa-44e6-87ce-af43f1c8ae47' started\n",
      "\n",
      "#######################################################################################\n",
      "\n",
      "\n",
      "initializing\n",
      "Note: online_url is deprecated and will be removed in a future release. Use serving_urls instead.\n",
      "\n",
      "ready\n",
      "\n",
      "\n",
      "------------------------------------------------------------------------------------------------\n",
      "Successfully finished deployment creation, deployment_uid='19192d86-bf90-4ada-8898-a757aa57d433'\n",
      "------------------------------------------------------------------------------------------------\n",
      "\n",
      "\n"
     ]
    },
    {
     "data": {
      "text/plain": [
       "{'entity': {'asset': {'id': 'e54a2552-7daa-44e6-87ce-af43f1c8ae47'},\n",
       "  'custom': {},\n",
       "  'deployed_asset_type': 'model',\n",
       "  'hardware_spec': {'id': 'e7ed1d6c-2e89-42d7-aed5-863b972c1d2b',\n",
       "   'name': 'S',\n",
       "   'num_nodes': 1},\n",
       "  'name': 'IoT Assignment 4 Model Deployment',\n",
       "  'online': {},\n",
       "  'space_id': 'fac068c9-1bea-460a-b9cd-987107957422',\n",
       "  'status': {'online_url': {'url': 'https://us-south.ml.cloud.ibm.com/ml/v4/deployments/19192d86-bf90-4ada-8898-a757aa57d433/predictions'},\n",
       "   'serving_urls': ['https://us-south.ml.cloud.ibm.com/ml/v4/deployments/19192d86-bf90-4ada-8898-a757aa57d433/predictions'],\n",
       "   'state': 'ready'}},\n",
       " 'metadata': {'created_at': '2022-04-10T23:05:18.946Z',\n",
       "  'id': '19192d86-bf90-4ada-8898-a757aa57d433',\n",
       "  'modified_at': '2022-04-10T23:05:18.946Z',\n",
       "  'name': 'IoT Assignment 4 Model Deployment',\n",
       "  'owner': 'IBMid-662003ETD1',\n",
       "  'space_id': 'fac068c9-1bea-460a-b9cd-987107957422'},\n",
       " 'system': {'warnings': [{'id': 'Deprecated',\n",
       "    'message': 'online_url is deprecated and will be removed in a future release. Use serving_urls instead.'}]}}"
      ]
     },
     "execution_count": 40,
     "metadata": {},
     "output_type": "execute_result"
    }
   ],
   "source": [
    "deployment_props = {\n",
    "    client.deployments.ConfigurationMetaNames.NAME: deployment_name,\n",
    "    client.deployments.ConfigurationMetaNames.ONLINE: {}\n",
    "}\n",
    "\n",
    "deployment = client.deployments.create(\n",
    "    artifact_uid=model_id,\n",
    "    meta_props=deployment_props\n",
    ")\n",
    "deployment"
   ]
  },
  {
   "cell_type": "code",
   "execution_count": 41,
   "id": "960c2484",
   "metadata": {},
   "outputs": [],
   "source": [
    "deployment_uid = client.deployments.get_id(deployment)"
   ]
  },
  {
   "cell_type": "code",
   "execution_count": 42,
   "id": "92497e4e",
   "metadata": {},
   "outputs": [
    {
     "name": "stdout",
     "output_type": "stream",
     "text": [
      "------------------------------------  ---------------------------------  -----  ------------------------\n",
      "GUID                                  NAME                               STATE  CREATED\n",
      "19192d86-bf90-4ada-8898-a757aa57d433  IoT Assignment 4 Model Deployment  ready  2022-04-10T23:05:18.946Z\n",
      "------------------------------------  ---------------------------------  -----  ------------------------\n",
      "None\n"
     ]
    }
   ],
   "source": [
    "print(client.deployments.list())"
   ]
  },
  {
   "cell_type": "markdown",
   "id": "1d2854ed",
   "metadata": {},
   "source": [
    "## IBM Cloud Testing"
   ]
  },
  {
   "cell_type": "code",
   "execution_count": 43,
   "id": "1a8ae7e2",
   "metadata": {},
   "outputs": [],
   "source": [
    "test_samples, test_labels = get_samples_and_labels(test_data_file)\n",
    "test_data = create_data(test_samples, best_window_size)\n",
    "shuffled_test_data, shuffled_test_labels = shuffle(test_data, test_labels, random_state = random_state_seed)"
   ]
  },
  {
   "cell_type": "code",
   "execution_count": 46,
   "id": "fcc94302",
   "metadata": {},
   "outputs": [],
   "source": [
    "def cloud_test(cloud_test_data):\n",
    "    payload = {\n",
    "        \"input_data\": [\n",
    "            {\n",
    "                \"fields\": [\"f0\",\"f1\",\"f2\",\"f3\",\"f4\",\"f5\",\"f6\",\"f7\",\"f8\",],\n",
    "                \"values\": cloud_test_data.reshape((1, cloud_test_data.shape[0])).tolist()\n",
    "            }\n",
    "        ]\n",
    "    }\n",
    "    # CHANGE THE GUID OFF THE DEPLOYED MODEL IN THE BELOW LINE\n",
    "    model_GUID = 'GUID HERE'\n",
    "    result = client.deployments.score(model_GUID, payload)\n",
    "    print(result)\n",
    "    prediction_value = result['predictions'][0]['values'][0][0]\n",
    "    return prediction_value"
   ]
  },
  {
   "cell_type": "code",
   "execution_count": 47,
   "id": "481469ac",
   "metadata": {},
   "outputs": [
    {
     "name": "stdout",
     "output_type": "stream",
     "text": [
      "{'predictions': [{'fields': ['prediction'], 'values': [[0]]}]}\n",
      "{'predictions': [{'fields': ['prediction'], 'values': [[1]]}]}\n",
      "{'predictions': [{'fields': ['prediction'], 'values': [[0]]}]}\n",
      "{'predictions': [{'fields': ['prediction'], 'values': [[0]]}]}\n",
      "{'predictions': [{'fields': ['prediction'], 'values': [[1]]}]}\n",
      "{'predictions': [{'fields': ['prediction'], 'values': [[0]]}]}\n",
      "{'predictions': [{'fields': ['prediction'], 'values': [[0]]}]}\n",
      "{'predictions': [{'fields': ['prediction'], 'values': [[1]]}]}\n",
      "{'predictions': [{'fields': ['prediction'], 'values': [[0]]}]}\n",
      "{'predictions': [{'fields': ['prediction'], 'values': [[1]]}]}\n",
      "{'predictions': [{'fields': ['prediction'], 'values': [[1]]}]}\n",
      "{'predictions': [{'fields': ['prediction'], 'values': [[0]]}]}\n",
      "{'predictions': [{'fields': ['prediction'], 'values': [[1]]}]}\n"
     ]
    }
   ],
   "source": [
    "prdections = []\n",
    "for cloud_test_data in shuffled_test_data:\n",
    "    prdections.append(cloud_test(cloud_test_data))"
   ]
  },
  {
   "cell_type": "code",
   "execution_count": 48,
   "id": "40d1095e",
   "metadata": {},
   "outputs": [
    {
     "name": "stdout",
     "output_type": "stream",
     "text": [
      "1.0\n"
     ]
    }
   ],
   "source": [
    "accuracy = sum(1 for actl,pred in zip(shuffled_test_labels,prdections) if actl == pred) / float(len(shuffled_test_labels))\n",
    "\n",
    "print(accuracy)\n"
   ]
  },
  {
   "cell_type": "code",
   "execution_count": null,
   "id": "f4ae9473",
   "metadata": {},
   "outputs": [],
   "source": []
  },
  {
   "cell_type": "code",
   "execution_count": null,
   "id": "e2bda44a",
   "metadata": {},
   "outputs": [],
   "source": []
  },
  {
   "cell_type": "markdown",
   "id": "a852110a",
   "metadata": {},
   "source": [
    "# Extras"
   ]
  },
  {
   "cell_type": "code",
   "execution_count": 49,
   "id": "32d00ad0",
   "metadata": {},
   "outputs": [],
   "source": [
    "# shuffled_test_labels"
   ]
  },
  {
   "cell_type": "code",
   "execution_count": 50,
   "id": "1c90bbcf",
   "metadata": {},
   "outputs": [],
   "source": [
    "# payload = {\n",
    "#     \"input_data\": [\n",
    "#         {\n",
    "#             \"fields\": [\"f0\",\"f1\",\"f2\",\"f3\",\"f4\",\"f5\",\"f6\",\"f7\",\"f8\",],\n",
    "#             \"values\": shuffled_test_data[1].reshape((1, shuffled_test_data[0].shape[0])).tolist()\n",
    "#         }\n",
    "#     ]\n",
    "# }\n",
    "# result = client.deployments.score('53134487-a7df-4f11-bd35-be9ff68bad73', payload)\n",
    "# print(result)"
   ]
  },
  {
   "cell_type": "code",
   "execution_count": 51,
   "id": "3b2ae078",
   "metadata": {},
   "outputs": [],
   "source": [
    "# data = create_data(samples, 4)\n",
    "# x_train, x_test, y_train, y_test = train_test_split(data, labels, test_size=0.2, shuffle=False)\n",
    "# temp = x_train[0]\n",
    "# temp = temp.reshape((1, temp.shape[0]))\n",
    "# temp.shape"
   ]
  },
  {
   "cell_type": "code",
   "execution_count": 52,
   "id": "fe18171d",
   "metadata": {},
   "outputs": [],
   "source": [
    "# payload = {\n",
    "#     \"input_data\": [\n",
    "#         {\n",
    "#             \"fields\": [\"f0\",\"f1\",\"f2\",\"f3\",\"f4\",\"f5\",\"f6\",\"f7\",\"f8\",\"f9\",\"f10\",\"f11\",],\n",
    "#             \"values\": x_train[0].reshape((1, x_train[0].shape[0])).tolist()\n",
    "#         }\n",
    "#     ]\n",
    "# }\n",
    "# result = client.deployments.score('7fd7e2f8-78f1-485d-8439-36f00fbaee81', payload)\n",
    "# print(result)"
   ]
  },
  {
   "cell_type": "code",
   "execution_count": 53,
   "id": "176a8bdb",
   "metadata": {},
   "outputs": [],
   "source": [
    "# client.deployments."
   ]
  },
  {
   "cell_type": "code",
   "execution_count": 54,
   "id": "8294eeb4",
   "metadata": {},
   "outputs": [],
   "source": [
    "# shuffled_test_labels"
   ]
  },
  {
   "cell_type": "code",
   "execution_count": 55,
   "id": "c01eec00",
   "metadata": {},
   "outputs": [],
   "source": [
    "# print(result['predictions'][0]['values'][0][0])"
   ]
  },
  {
   "cell_type": "code",
   "execution_count": null,
   "id": "c0e053ea",
   "metadata": {},
   "outputs": [],
   "source": []
  },
  {
   "cell_type": "code",
   "execution_count": null,
   "id": "9d69ce47",
   "metadata": {},
   "outputs": [],
   "source": []
  }
 ],
 "metadata": {
  "kernelspec": {
   "display_name": "Python 3 (ipykernel)",
   "language": "python",
   "name": "python3"
  },
  "language_info": {
   "codemirror_mode": {
    "name": "ipython",
    "version": 3
   },
   "file_extension": ".py",
   "mimetype": "text/x-python",
   "name": "python",
   "nbconvert_exporter": "python",
   "pygments_lexer": "ipython3",
   "version": "3.8.9"
  }
 },
 "nbformat": 4,
 "nbformat_minor": 5
}
